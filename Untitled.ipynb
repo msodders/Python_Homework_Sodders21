{
 "cells": [
  {
   "cell_type": "code",
   "execution_count": 1,
   "id": "5b9aea95",
   "metadata": {},
   "outputs": [],
   "source": [
    "from Bio import SeqIO\n",
    "from Bio import Seq\n",
    "from Bio.Data import CodonTable\n",
    "import pandas as pd\n",
    "from Bio.SeqUtils.ProtParam import ProteinAnalysis\n",
    "from Bio.SeqUtils import GC\n",
    "import matplotlib.pyplot as plt\n",
    "import seaborn as sns\n",
    "%matplotlib inline \n",
    "#https://medium.com/@Med1um1/using-matplotlib-in-jupyter-notebooks-comparing-methods-and-some-tips-python-c38e85b40ba1"
   ]
  },
  {
   "cell_type": "code",
   "execution_count": 2,
   "id": "7c402e9c",
   "metadata": {},
   "outputs": [],
   "source": [
    "def get_sequences_from_file(fasta_fn):\n",
    "    sequence_data_dict = {}\n",
    "    for record in SeqIO.parse(fasta_fn, \"fasta\"):\n",
    "        description = record.description.split()\n",
    "        species_name = description[1] + \" \" + description[2]\n",
    "        sequence_data_dict[species_name] = record.seq\n",
    "    return(sequence_data_dict)"
   ]
  },
  {
   "cell_type": "code",
   "execution_count": 3,
   "id": "83929215",
   "metadata": {},
   "outputs": [],
   "source": [
    "### 2\n",
    "### The translate function uses the translation table for Vertebrate Mitochondrial DNA\n",
    "### If the nucleotide string length is divisible by 3 they form codons that match amino acids from the translation table\n",
    "### If a stop codon is read the amino acid string is returned \n",
    "### Nuecleotide strings are translated into amino acid strings and the amino acid strings are returned \n",
    "### Citation: https://www.geeksforgeeks.org/dna-protein-python-3/\n",
    "\n",
    "def translate_function(string_nucleotides):\n",
    "    mito_table = CodonTable.unambiguous_dna_by_name[\"Vertebrate Mitochondrial\"]\n",
    "    aa_seq_string =\"\"\n",
    "    if len(seq)%3 == 0:\n",
    "        for i in range(0, len(string_nucleotides), 3):\n",
    "            codon = seq[i:i + 3]\n",
    "    if codon in [\"AGA\", \"AGG\", \"TAA\", \"TAG\"]:\n",
    "            return aa_seq_string\n",
    "    aa_seq_string+= mito_table[codon]\n",
    "    return aa_seq_string"
   ]
  },
  {
   "cell_type": "code",
   "execution_count": 4,
   "id": "87eb6329",
   "metadata": {},
   "outputs": [],
   "source": [
    "\n",
    "### 3\n",
    "### Fucntion defines translate code from biopyhton library\n",
    "### Translates nucleotide string into amino acid string, using the Vertebrate Mitochondrial DNA translation table. On reaching a stop codon, amino acid string is returned\n",
    "### Citation: https://biopython.readthedocs.io/en/latest/Tutorial/chapter_seq_objects.html\n",
    "\n",
    "def biopython_translate(string_nucleotides): \n",
    "    aminoacid_seq = \"\"\n",
    "    aminoacid_seq=Seq.translate(string_nucleotides, table=2, to_stop=True) \n",
    "    return aminoacid_seq"
   ]
  },
  {
   "cell_type": "code",
   "execution_count": 5,
   "id": "f62f2e7b",
   "metadata": {},
   "outputs": [],
   "source": [
    "### 4\n",
    "### Function to calculate molecular weight of amino acid sequences\n",
    "### ProteinAnalysis() checks if the input amino acid sequence is an amino acid string\n",
    "### Function returns molecular weight of the string as a float\n",
    "### Citation: https://biopython.org/wiki/ProtParam\n",
    "\n",
    "def compute_molecular_weight(aa_seq):\n",
    "    true_aa_string= ProteinAnalysis(aa_seq)\n",
    "    return true_aa_string.molecular_weight()"
   ]
  },
  {
   "cell_type": "code",
   "execution_count": 6,
   "id": "1332419b",
   "metadata": {},
   "outputs": [],
   "source": [
    "\n",
    "### 5\n",
    "### GC content analysis function\n",
    "### Uses GC() function from the biopython library\n",
    "### Citation: https://biopython.readthedocs.io/en/latest/Tutorial/chapter_seq_objects.html#nucleotide-sequences-and-reverse-complements\n",
    "\n",
    "def gc_analysis(nucleotide_seq):\n",
    "    return GC(nucleotide_seq)"
   ]
  },
  {
   "cell_type": "code",
   "execution_count": 7,
   "id": "1d5360b4",
   "metadata": {},
   "outputs": [],
   "source": [
    "### Bonus function to calculate the isoelectric point of a protein\n",
    "### ProteinAnalysis() checks if the input amino acid sequence is an amino acid string\n",
    "### Function returns IsoelectricPoint of the string as a float\n",
    "### Citation: https://biopython.org/wiki/ProtParam\n",
    "\n",
    "def get_isoelectric_point(aa_seq):\n",
    "    true_aa_string= ProteinAnalysis(aa_seq)\n",
    "    return true_aa_string.isoelectric_point()"
   ]
  },
  {
   "cell_type": "code",
   "execution_count": 8,
   "id": "7468ea82",
   "metadata": {},
   "outputs": [],
   "source": [
    "### Accept sequences from bears_cytb fasta file and add them to a dictionary\n",
    "cytb_seqs = get_sequences_from_file(\"bears_cytb.fasta\") \n",
    "### Data frame that only contains data for body mass\n",
    "bears_df = pd.read_csv(\"bears_mass.csv\") \n",
    "### Read the bears dataframe file to a species list\n",
    "species_list = list(bears_df.species)"
   ]
  },
  {
   "cell_type": "code",
   "execution_count": 9,
   "id": "abd4a117",
   "metadata": {},
   "outputs": [
    {
     "data": {
      "text/html": [
       "<div>\n",
       "<style scoped>\n",
       "    .dataframe tbody tr th:only-of-type {\n",
       "        vertical-align: middle;\n",
       "    }\n",
       "\n",
       "    .dataframe tbody tr th {\n",
       "        vertical-align: top;\n",
       "    }\n",
       "\n",
       "    .dataframe thead th {\n",
       "        text-align: right;\n",
       "    }\n",
       "</style>\n",
       "<table border=\"1\" class=\"dataframe\">\n",
       "  <thead>\n",
       "    <tr style=\"text-align: right;\">\n",
       "      <th></th>\n",
       "      <th>species</th>\n",
       "      <th>mass</th>\n",
       "      <th>molecular weight</th>\n",
       "      <th>GC Content</th>\n",
       "      <th>Isoelectric Point</th>\n",
       "    </tr>\n",
       "  </thead>\n",
       "  <tbody>\n",
       "    <tr>\n",
       "      <th>0</th>\n",
       "      <td>Ursus spelaeus</td>\n",
       "      <td>550.800</td>\n",
       "      <td>NaN</td>\n",
       "      <td>NaN</td>\n",
       "      <td>NaN</td>\n",
       "    </tr>\n",
       "    <tr>\n",
       "      <th>1</th>\n",
       "      <td>Ursus arctos</td>\n",
       "      <td>203.500</td>\n",
       "      <td>NaN</td>\n",
       "      <td>NaN</td>\n",
       "      <td>NaN</td>\n",
       "    </tr>\n",
       "    <tr>\n",
       "      <th>2</th>\n",
       "      <td>Ursus thibetanus</td>\n",
       "      <td>99.714</td>\n",
       "      <td>NaN</td>\n",
       "      <td>NaN</td>\n",
       "      <td>NaN</td>\n",
       "    </tr>\n",
       "    <tr>\n",
       "      <th>3</th>\n",
       "      <td>Melursus ursinus</td>\n",
       "      <td>100.030</td>\n",
       "      <td>NaN</td>\n",
       "      <td>NaN</td>\n",
       "      <td>NaN</td>\n",
       "    </tr>\n",
       "  </tbody>\n",
       "</table>\n",
       "</div>"
      ],
      "text/plain": [
       "            species     mass molecular weight GC Content Isoelectric Point\n",
       "0    Ursus spelaeus  550.800              NaN        NaN               NaN\n",
       "1      Ursus arctos  203.500              NaN        NaN               NaN\n",
       "2  Ursus thibetanus   99.714              NaN        NaN               NaN\n",
       "3  Melursus ursinus  100.030              NaN        NaN               NaN"
      ]
     },
     "execution_count": 9,
     "metadata": {},
     "output_type": "execute_result"
    }
   ],
   "source": [
    "### 6\n",
    "### Create a copy of the bears dataframe to add columns\n",
    "### For loops through the copied data frame to initialize a new column entry \"NaN\" in each row \n",
    "### Loops for molecular weight, GC content and isoelectric point (bonus) columns\n",
    "### Check column addition using head\n",
    "### Citation: https://stackoverflow.com/questions/39050539/adding-multiple-columns-to-pandas-simultaneously\n",
    "\n",
    "bears_df_cols = bears_df.copy()\n",
    "for index, row in bears_df_cols.iterrows():\n",
    "    bears_df_cols['molecular weight']= \"NaN\"\n",
    "for index, row in bears_df_cols.iterrows():\n",
    "    bears_df_cols['GC Content']= \"NaN\"\n",
    "for index, row in bears_df_cols.iterrows():\n",
    "    bears_df_cols['Isoelectric Point']= \"NaN\"\n",
    "bears_df_cols.head(4)"
   ]
  },
  {
   "cell_type": "code",
   "execution_count": 10,
   "id": "eb80f0d6",
   "metadata": {},
   "outputs": [
    {
     "data": {
      "text/html": [
       "<div>\n",
       "<style scoped>\n",
       "    .dataframe tbody tr th:only-of-type {\n",
       "        vertical-align: middle;\n",
       "    }\n",
       "\n",
       "    .dataframe tbody tr th {\n",
       "        vertical-align: top;\n",
       "    }\n",
       "\n",
       "    .dataframe thead th {\n",
       "        text-align: right;\n",
       "    }\n",
       "</style>\n",
       "<table border=\"1\" class=\"dataframe\">\n",
       "  <thead>\n",
       "    <tr style=\"text-align: right;\">\n",
       "      <th></th>\n",
       "      <th>species</th>\n",
       "      <th>mass</th>\n",
       "      <th>molecular weight</th>\n",
       "      <th>GC Content</th>\n",
       "      <th>Isoelectric Point</th>\n",
       "    </tr>\n",
       "  </thead>\n",
       "  <tbody>\n",
       "    <tr>\n",
       "      <th>0</th>\n",
       "      <td>Ursus spelaeus</td>\n",
       "      <td>550.800</td>\n",
       "      <td>42458.7992</td>\n",
       "      <td>43.77193</td>\n",
       "      <td>6.88402</td>\n",
       "    </tr>\n",
       "    <tr>\n",
       "      <th>1</th>\n",
       "      <td>Ursus arctos</td>\n",
       "      <td>203.500</td>\n",
       "      <td>42414.7435</td>\n",
       "      <td>43.77193</td>\n",
       "      <td>6.88402</td>\n",
       "    </tr>\n",
       "    <tr>\n",
       "      <th>2</th>\n",
       "      <td>Ursus thibetanus</td>\n",
       "      <td>99.714</td>\n",
       "      <td>42306.6735</td>\n",
       "      <td>45.614035</td>\n",
       "      <td>6.88402</td>\n",
       "    </tr>\n",
       "    <tr>\n",
       "      <th>3</th>\n",
       "      <td>Melursus ursinus</td>\n",
       "      <td>100.030</td>\n",
       "      <td>42551.99</td>\n",
       "      <td>45.175439</td>\n",
       "      <td>7.194361</td>\n",
       "    </tr>\n",
       "  </tbody>\n",
       "</table>\n",
       "</div>"
      ],
      "text/plain": [
       "            species     mass molecular weight GC Content Isoelectric Point\n",
       "0    Ursus spelaeus  550.800       42458.7992   43.77193           6.88402\n",
       "1      Ursus arctos  203.500       42414.7435   43.77193           6.88402\n",
       "2  Ursus thibetanus   99.714       42306.6735  45.614035           6.88402\n",
       "3  Melursus ursinus  100.030         42551.99  45.175439          7.194361"
      ]
     },
     "execution_count": 10,
     "metadata": {},
     "output_type": "execute_result"
    }
   ],
   "source": [
    "### 7\n",
    "### For loop iterates through each species (row) and computes previosuly defined functions on the defined object\n",
    "### Using the function from 3 on the seq object in cytb_seqs, the nucleotide string is translated into an amino acid string\n",
    "### Using the GC analysis function GC content of the nucleotide sequences in cytb_seqs is computed\n",
    "### Molecular weight and isoelectric point of the gtranslated amino acid string are computed using the respective functions defined above\n",
    "### Molecular weight, GC content and Isoelectric point are added to their corresponding columns which were created in the bears dataframe\n",
    "### Dataframe is inspected using the head function\n",
    "\n",
    "row=0\n",
    "for i in bears_df_cols.species:\n",
    "    \n",
    "    aa_sequence= biopython_translate(str(cytb_seqs[i]))\n",
    "    GC_con = gc_analysis(str(cytb_seqs[i]))\n",
    "    mol_weight = compute_molecular_weight(aa_sequence)\n",
    "    iso_point = get_isoelectric_point(aa_sequence)\n",
    "    bears_df_cols.loc[row, 'GC Content'] = GC_con\n",
    "    bears_df_cols.loc[row, 'molecular weight'] = mol_weight\n",
    "    bears_df_cols.loc[row, 'Isoelectric Point'] = iso_point\n",
    "    row += 1\n",
    "bears_df_cols.head(4)"
   ]
  },
  {
   "cell_type": "code",
   "execution_count": 11,
   "id": "67ad7b79",
   "metadata": {},
   "outputs": [
    {
     "data": {
      "text/plain": [
       "Text(0, 0.5, 'mass')"
      ]
     },
     "execution_count": 11,
     "metadata": {},
     "output_type": "execute_result"
    },
    {
     "data": {
      "image/png": "[encoded data removed]",
      "text/plain": [
       "<Figure size 1332x756 with 1 Axes>"
      ]
     },
     "metadata": {
      "needs_background": "light"
     },
     "output_type": "display_data"
    }
   ],
   "source": [
    "### 8\n",
    "### Bar plot of species (x) and mass (y) using seaborn\n",
    "### Citation: https://seaborn.pydata.org/generated/seaborn.barplot.html\n",
    "\n",
    "ax= sns.barplot (x= \"species\", y= \"mass\", palette=\"Blues_d\", data= bears_df_cols)\n",
    "ax.figure.set_size_inches(18.5, 10.5) #plot size dimensions\n",
    "ax.set_xlabel('species', fontsize=20) #x aaxis label and font\n",
    "ax.set_ylabel('mass', fontsize=20) #y axis label and font"
   ]
  },
  {
   "cell_type": "code",
   "execution_count": 15,
   "id": "3113627b",
   "metadata": {},
   "outputs": [
    {
     "data": {
      "image/png": "[encoded data removed]",
      "text/plain": [
       "<Figure size 696.875x360 with 1 Axes>"
      ]
     },
     "metadata": {
      "needs_background": "light"
     },
     "output_type": "display_data"
    }
   ],
   "source": [
    "### 9\n",
    "### Scatterplot of GC Content (x) and molecular weight (y) with the markers colored according to species\n",
    "ay= sns.lmplot(x= \"GC Content\", y= \"molecular weight\", data= bears_df_cols, hue=\"species\", markers='*', fit_reg=False, aspect=1.5)"
   ]
  },
  {
   "cell_type": "code",
   "execution_count": 13,
   "id": "a3fac3c9",
   "metadata": {},
   "outputs": [],
   "source": [
    "### 10\n",
    "### Saving the dataframe with changes\n",
    "### Citation: https://pandas.pydata.org/pandas-docs/stable/generated/pandas.DataFrame.to_csv.html\n",
    "\n",
    "bears_df_cols.to_csv('bears_updated_info.csv')"
   ]
  },
  {
   "cell_type": "code",
   "execution_count": 14,
   "id": "784ba9f2",
   "metadata": {},
   "outputs": [
    {
     "data": {
      "image/png": "[encoded data removed]",
      "text/plain": [
       "<Figure size 360x360 with 1 Axes>"
      ]
     },
     "metadata": {
      "needs_background": "light"
     },
     "output_type": "display_data"
    }
   ],
   "source": [
    "### 11\n",
    "### Bonus plot of isoelectric point of amino acid sequence (y) and its molecular weight (x)\n",
    "\n",
    "az= sns.lmplot(x= \"molecular weight\", y= \"Isoelectric Point\", data= bears_df_cols, markers='D', fit_reg=False, aspect=1.0)"
   ]
  }
 ],
 "metadata": {
  "kernelspec": {
   "display_name": "Python 3",
   "language": "python",
   "name": "python3"
  },
  "language_info": {
   "codemirror_mode": {
    "name": "ipython",
    "version": 3
   },
   "file_extension": ".py",
   "mimetype": "text/x-python",
   "name": "python",
   "nbconvert_exporter": "python",
   "pygments_lexer": "ipython3",
   "version": "3.8.8"
  }
 },
 "nbformat": 4,
 "nbformat_minor": 5
}
