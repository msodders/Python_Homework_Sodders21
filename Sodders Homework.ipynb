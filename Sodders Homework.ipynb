{
 "cells": [
  {
   "cell_type": "markdown",
   "id": "15aac0d7",
   "metadata": {},
   "source": [
    "# Sodders Python Homework"
   ]
  },
  {
   "cell_type": "markdown",
   "id": "9dac901c",
   "metadata": {},
   "source": [
    "## Initial Installations (If not Already Done)"
   ]
  },
  {
   "cell_type": "code",
   "execution_count": 1,
   "id": "39c36f83",
   "metadata": {
    "scrolled": true
   },
   "outputs": [
    {
     "name": "stdout",
     "output_type": "stream",
     "text": [
      "Requirement already satisfied: biopython in /Users/maggiesodders/opt/anaconda3/lib/python3.8/site-packages (1.78)\n",
      "Requirement already satisfied: numpy in /Users/maggiesodders/opt/anaconda3/lib/python3.8/site-packages (from biopython) (1.20.1)\n",
      "Note: you may need to restart the kernel to use updated packages.\n"
     ]
    }
   ],
   "source": [
    "pip install biopython"
   ]
  },
  {
   "cell_type": "code",
   "execution_count": 2,
   "id": "67f29b3f",
   "metadata": {},
   "outputs": [],
   "source": [
    "from Bio import SeqIO\n",
    "from Bio import Seq\n",
    "from Bio.Data import CodonTable\n",
    "import pandas as pd\n",
    "from Bio.SeqUtils.ProtParam import ProteinAnalysis\n",
    "from Bio.SeqUtils import GC\n",
    "import matplotlib.pyplot as plt\n",
    "import seaborn as sns\n",
    "%matplotlib inline \n",
    "#https://medium.com/@Med1um1/using-matplotlib-in-jupyter-notebooks-comparing-methods-and-some-tips-python-c38e85b40ba1"
   ]
  },
  {
   "cell_type": "markdown",
   "id": "fe2fea53",
   "metadata": {},
   "source": [
    "# Part 1"
   ]
  },
  {
   "cell_type": "markdown",
   "id": "0df1e167",
   "metadata": {},
   "source": [
    "## Functions "
   ]
  },
  {
   "cell_type": "markdown",
   "id": "5a99a376",
   "metadata": {},
   "source": [
    "### 1 Describe all functions used below: what it does, returns, and arguments"
   ]
  },
  {
   "cell_type": "code",
   "execution_count": 3,
   "id": "a82344a4",
   "metadata": {},
   "outputs": [],
   "source": [
    "def get_sequences_from_file(bears_cytb): \n",
    "    sequence_data_dict = {}\n",
    "    for record in SeqIO.parse(bears_cytb.fasta, \"fasta\"):\n",
    "        description = record.description.split()\n",
    "        species_name = description[1] + \" \" + description[2]\n",
    "        sequence_data_dict[species_name] = record.seq\n",
    "    return(sequence_data_dict)"
   ]
  },
  {
   "cell_type": "code",
   "execution_count": 4,
   "id": "5993a9e8",
   "metadata": {},
   "outputs": [],
   "source": [
    "def get_sequences_from_file(fasta_fn):              #reads the fasta file inputed to the brackets\n",
    "    sequence_data_dict = {}                         #makes dictionary \n",
    "    for record in SeqIO.parse(fasta_fn, \"fasta\"):   #organize dictionary by sequence name \n",
    "        description = record.description.split() \n",
    "        species_name = description[1] + \" \" + description[2]\n",
    "        sequence_data_dict[species_name] = record.seq\n",
    "    return(sequence_data_dict)                      #returns the dictionary organized by the sequence name"
   ]
  },
  {
   "cell_type": "markdown",
   "id": "16a714db",
   "metadata": {},
   "source": [
    "### 2 Write a Function that Translates Sequences"
   ]
  },
  {
   "cell_type": "code",
   "execution_count": 5,
   "id": "e3d37aea",
   "metadata": {
    "scrolled": true
   },
   "outputs": [
    {
     "name": "stdout",
     "output_type": "stream",
     "text": [
      "Table 2 Vertebrate Mitochondrial, SGC1\n",
      "\n",
      "  |  T      |  C      |  A      |  G      |\n",
      "--+---------+---------+---------+---------+--\n",
      "T | TTT F   | TCT S   | TAT Y   | TGT C   | T\n",
      "T | TTC F   | TCC S   | TAC Y   | TGC C   | C\n",
      "T | TTA L   | TCA S   | TAA Stop| TGA W   | A\n",
      "T | TTG L   | TCG S   | TAG Stop| TGG W   | G\n",
      "--+---------+---------+---------+---------+--\n",
      "C | CTT L   | CCT P   | CAT H   | CGT R   | T\n",
      "C | CTC L   | CCC P   | CAC H   | CGC R   | C\n",
      "C | CTA L   | CCA P   | CAA Q   | CGA R   | A\n",
      "C | CTG L   | CCG P   | CAG Q   | CGG R   | G\n",
      "--+---------+---------+---------+---------+--\n",
      "A | ATT I(s)| ACT T   | AAT N   | AGT S   | T\n",
      "A | ATC I(s)| ACC T   | AAC N   | AGC S   | C\n",
      "A | ATA M(s)| ACA T   | AAA K   | AGA Stop| A\n",
      "A | ATG M(s)| ACG T   | AAG K   | AGG Stop| G\n",
      "--+---------+---------+---------+---------+--\n",
      "G | GTT V   | GCT A   | GAT D   | GGT G   | T\n",
      "G | GTC V   | GCC A   | GAC D   | GGC G   | C\n",
      "G | GTA V   | GCA A   | GAA E   | GGA G   | A\n",
      "G | GTG V(s)| GCG A   | GAG E   | GGG G   | G\n",
      "--+---------+---------+---------+---------+--\n"
     ]
    }
   ],
   "source": [
    "mito_table = CodonTable.unambiguous_dna_by_name[\"Vertebrate Mitochondrial\"] #Check what is in the table\n",
    "print(mito_table)"
   ]
  },
  {
   "cell_type": "code",
   "execution_count": 6,
   "id": "085355d5",
   "metadata": {},
   "outputs": [],
   "source": [
    "def regular_translate(string_nucleotides):                                   #Define Function and input needs\n",
    "    mito_table = CodonTable.unambiguous_dna_by_name[\"Vertebrate Mitochondrial\"]\n",
    "    aa_seq_string =\"\"                                                        #Put in a string \n",
    "    if len(seq)%3 == 0:                                                      #Make codons from groups of three nucleotides\n",
    "        for i in range(0, len(string_nucleotides), 3):\n",
    "            codon = seq[i:i + 3]\n",
    "    if codon in [\"AGA\", \"AGG\", \"TAA\", \"TAG\"]:                                #Adds function of stop codon, stops reading once one is read\n",
    "            return aa_seq_string\n",
    "    aa_seq_string+= mito_table[codon]                                        #Put together and output\n",
    "    return aa_seq_string\n",
    "#https://www.geeksforgeeks.org/dna-protein-python-3/"
   ]
  },
  {
   "cell_type": "markdown",
   "id": "4314be97",
   "metadata": {},
   "source": [
    "### 3 Write Alternative Translation Function (With BioPython)"
   ]
  },
  {
   "cell_type": "code",
   "execution_count": 7,
   "id": "beae5983",
   "metadata": {},
   "outputs": [],
   "source": [
    "def biopython_translate(DNA_nucleotides):                                    #Define function and input needs\n",
    "    aminoacid_seq = \"\"                                                       #Make empty string for amino acids to go \n",
    "    aminoacid_seq=Seq.translate(DNA_nucleotides, table=2, to_stop=True)      #Makes the codons, stops at stop sequence\n",
    "    return aminoacid_seq                                                     #Output is an amino acid sequence\n",
    "#https://biopython.readthedocs.io/en/latest/Tutorial/chapter_seq_objects.html"
   ]
  },
  {
   "cell_type": "markdown",
   "id": "01b36b3f",
   "metadata": {},
   "source": [
    "### 4 Write a Function that Calculates the Molecular Weight of each Amino Acid Sequence."
   ]
  },
  {
   "cell_type": "code",
   "execution_count": 8,
   "id": "108475ec",
   "metadata": {},
   "outputs": [],
   "source": [
    "def molecular_weight_calc(aa_seq):                                           #Define function and input needs \n",
    "    aa_string= ProteinAnalysis(aa_seq)                                       #Protien analysis from Biopython\n",
    "    return aa_string.molecular_weight()                                      #Output is the molecular weight\n",
    "#https://biopython.org/wiki/ProtParam"
   ]
  },
  {
   "cell_type": "markdown",
   "id": "648c5cb1",
   "metadata": {},
   "source": [
    "### 5 Write a Function that Calculates the GC-content (proportion of \"G\" and \"C\") of each DNA Sequence and Returns this Value "
   ]
  },
  {
   "cell_type": "code",
   "execution_count": 9,
   "id": "d551bccb",
   "metadata": {},
   "outputs": [],
   "source": [
    "def gc_calc(DNA_nucleotides):                                                #Define function and input. Will be used later in #7\n",
    "    return GC(DNA_nucleotides)                                               #Output is amount of G and C in sequence\n",
    "#https://biopython.org/docs/1.75/api/Bio.SeqUtils.html"
   ]
  },
  {
   "cell_type": "markdown",
   "id": "7fc549cc",
   "metadata": {},
   "source": [
    "# Part 2"
   ]
  },
  {
   "cell_type": "code",
   "execution_count": 10,
   "id": "c9c3a80e",
   "metadata": {},
   "outputs": [
    {
     "data": {
      "text/plain": [
       "{'Ursus spelaeus': Seq('ATGACCAACATCCGAAAAACCCATCCATTAGCTAAAATCATCAACAACTCATTT...AGA'),\n",
       " 'Ursus arctos': Seq('ATGACCAACATCCGAAAAACCCACCCATTAGCTAAAATCATCAACAACTCACTT...AGA'),\n",
       " 'Ursus thibetanus': Seq('ATGACCAACATCCGAAAAACCCATCCATTAGCCAAAATCATCAACAACTCACTC...AGA'),\n",
       " 'Melursus ursinus': Seq('ATGACCAACATCCGAAAAACCCACCCATTAGCTAAAATCATTAACAACTCACTC...AGA'),\n",
       " 'Ursus americanus': Seq('ATGACCAACATCCGAAAAACCCACCCATTAGCTAAAATCATCAACAACTCACTT...AGA'),\n",
       " 'Helarctos malayanus': Seq('ATGACCAACATCCGAAAAACCCACCCATTAGCTAAAATCATTAACAACTCACTT...AGA'),\n",
       " 'Ailuropoda melanoleuca': Seq('ATGATCAACATCCGAAAAACTCATCCATTAGTTAAAATTATCAACAACTCATTC...AGA'),\n",
       " 'Tremarctos ornatus': Seq('ATGACCAACATCCGAAAAACTCACCCACTAGCTAAAATCATCAACAGCTCATTC...AGA'),\n",
       " 'Ursus maritimus': Seq('ATGACCAACATCCGAAAAACCCACCCATTAGCTAAAATCATCAACAACTCATTT...AGA')}"
      ]
     },
     "execution_count": 10,
     "metadata": {},
     "output_type": "execute_result"
    }
   ],
   "source": [
    "cytb_seqs = get_sequences_from_file(\"bears_cytb.fasta\")             #Import\n",
    "cytb_seqs                                                           #did it import? "
   ]
  },
  {
   "cell_type": "code",
   "execution_count": 11,
   "id": "2109d02d",
   "metadata": {},
   "outputs": [
    {
     "data": {
      "text/html": [
       "<div>\n",
       "<style scoped>\n",
       "    .dataframe tbody tr th:only-of-type {\n",
       "        vertical-align: middle;\n",
       "    }\n",
       "\n",
       "    .dataframe tbody tr th {\n",
       "        vertical-align: top;\n",
       "    }\n",
       "\n",
       "    .dataframe thead th {\n",
       "        text-align: right;\n",
       "    }\n",
       "</style>\n",
       "<table border=\"1\" class=\"dataframe\">\n",
       "  <thead>\n",
       "    <tr style=\"text-align: right;\">\n",
       "      <th></th>\n",
       "      <th>species</th>\n",
       "      <th>mass</th>\n",
       "    </tr>\n",
       "  </thead>\n",
       "  <tbody>\n",
       "    <tr>\n",
       "      <th>0</th>\n",
       "      <td>Ursus spelaeus</td>\n",
       "      <td>550.800</td>\n",
       "    </tr>\n",
       "    <tr>\n",
       "      <th>1</th>\n",
       "      <td>Ursus arctos</td>\n",
       "      <td>203.500</td>\n",
       "    </tr>\n",
       "    <tr>\n",
       "      <th>2</th>\n",
       "      <td>Ursus thibetanus</td>\n",
       "      <td>99.714</td>\n",
       "    </tr>\n",
       "    <tr>\n",
       "      <th>3</th>\n",
       "      <td>Melursus ursinus</td>\n",
       "      <td>100.030</td>\n",
       "    </tr>\n",
       "    <tr>\n",
       "      <th>4</th>\n",
       "      <td>Ursus americanus</td>\n",
       "      <td>110.560</td>\n",
       "    </tr>\n",
       "    <tr>\n",
       "      <th>5</th>\n",
       "      <td>Helarctos malayanus</td>\n",
       "      <td>47.020</td>\n",
       "    </tr>\n",
       "    <tr>\n",
       "      <th>6</th>\n",
       "      <td>Ailuropoda melanoleuca</td>\n",
       "      <td>118.200</td>\n",
       "    </tr>\n",
       "    <tr>\n",
       "      <th>7</th>\n",
       "      <td>Tremarctos ornatus</td>\n",
       "      <td>140.700</td>\n",
       "    </tr>\n",
       "    <tr>\n",
       "      <th>8</th>\n",
       "      <td>Ursus maritimus</td>\n",
       "      <td>425.100</td>\n",
       "    </tr>\n",
       "  </tbody>\n",
       "</table>\n",
       "</div>"
      ],
      "text/plain": [
       "                  species     mass\n",
       "0          Ursus spelaeus  550.800\n",
       "1            Ursus arctos  203.500\n",
       "2        Ursus thibetanus   99.714\n",
       "3        Melursus ursinus  100.030\n",
       "4        Ursus americanus  110.560\n",
       "5     Helarctos malayanus   47.020\n",
       "6  Ailuropoda melanoleuca  118.200\n",
       "7      Tremarctos ornatus  140.700\n",
       "8         Ursus maritimus  425.100"
      ]
     },
     "execution_count": 11,
     "metadata": {},
     "output_type": "execute_result"
    }
   ],
   "source": [
    "bears_df = pd.read_csv(\"bears_mass.csv\") # Includes only data for body mass #Import\n",
    "bears_df                                 #did it import?"
   ]
  },
  {
   "cell_type": "code",
   "execution_count": 12,
   "id": "20c6a55e",
   "metadata": {},
   "outputs": [
    {
     "data": {
      "text/plain": [
       "['Ursus spelaeus',\n",
       " 'Ursus arctos',\n",
       " 'Ursus thibetanus',\n",
       " 'Melursus ursinus',\n",
       " 'Ursus americanus',\n",
       " 'Helarctos malayanus',\n",
       " 'Ailuropoda melanoleuca',\n",
       " 'Tremarctos ornatus',\n",
       " 'Ursus maritimus']"
      ]
     },
     "execution_count": 12,
     "metadata": {},
     "output_type": "execute_result"
    }
   ],
   "source": [
    "species_list = list(bears_df.species)    #Import\n",
    "species_list                             #did it import? "
   ]
  },
  {
   "cell_type": "markdown",
   "id": "23867b86",
   "metadata": {},
   "source": [
    "### 6 Add Two New Columns to the Bears DataFrame: (1) Molecular Weight and (2) GC content."
   ]
  },
  {
   "cell_type": "code",
   "execution_count": 13,
   "id": "82930caf",
   "metadata": {},
   "outputs": [
    {
     "data": {
      "text/html": [
       "<div>\n",
       "<style scoped>\n",
       "    .dataframe tbody tr th:only-of-type {\n",
       "        vertical-align: middle;\n",
       "    }\n",
       "\n",
       "    .dataframe tbody tr th {\n",
       "        vertical-align: top;\n",
       "    }\n",
       "\n",
       "    .dataframe thead th {\n",
       "        text-align: right;\n",
       "    }\n",
       "</style>\n",
       "<table border=\"1\" class=\"dataframe\">\n",
       "  <thead>\n",
       "    <tr style=\"text-align: right;\">\n",
       "      <th></th>\n",
       "      <th>species</th>\n",
       "      <th>mass</th>\n",
       "      <th>molecular weight</th>\n",
       "      <th>GC Content</th>\n",
       "    </tr>\n",
       "  </thead>\n",
       "  <tbody>\n",
       "    <tr>\n",
       "      <th>0</th>\n",
       "      <td>Ursus spelaeus</td>\n",
       "      <td>550.800</td>\n",
       "      <td>NaN</td>\n",
       "      <td>NaN</td>\n",
       "    </tr>\n",
       "    <tr>\n",
       "      <th>1</th>\n",
       "      <td>Ursus arctos</td>\n",
       "      <td>203.500</td>\n",
       "      <td>NaN</td>\n",
       "      <td>NaN</td>\n",
       "    </tr>\n",
       "    <tr>\n",
       "      <th>2</th>\n",
       "      <td>Ursus thibetanus</td>\n",
       "      <td>99.714</td>\n",
       "      <td>NaN</td>\n",
       "      <td>NaN</td>\n",
       "    </tr>\n",
       "    <tr>\n",
       "      <th>3</th>\n",
       "      <td>Melursus ursinus</td>\n",
       "      <td>100.030</td>\n",
       "      <td>NaN</td>\n",
       "      <td>NaN</td>\n",
       "    </tr>\n",
       "    <tr>\n",
       "      <th>4</th>\n",
       "      <td>Ursus americanus</td>\n",
       "      <td>110.560</td>\n",
       "      <td>NaN</td>\n",
       "      <td>NaN</td>\n",
       "    </tr>\n",
       "    <tr>\n",
       "      <th>5</th>\n",
       "      <td>Helarctos malayanus</td>\n",
       "      <td>47.020</td>\n",
       "      <td>NaN</td>\n",
       "      <td>NaN</td>\n",
       "    </tr>\n",
       "    <tr>\n",
       "      <th>6</th>\n",
       "      <td>Ailuropoda melanoleuca</td>\n",
       "      <td>118.200</td>\n",
       "      <td>NaN</td>\n",
       "      <td>NaN</td>\n",
       "    </tr>\n",
       "    <tr>\n",
       "      <th>7</th>\n",
       "      <td>Tremarctos ornatus</td>\n",
       "      <td>140.700</td>\n",
       "      <td>NaN</td>\n",
       "      <td>NaN</td>\n",
       "    </tr>\n",
       "    <tr>\n",
       "      <th>8</th>\n",
       "      <td>Ursus maritimus</td>\n",
       "      <td>425.100</td>\n",
       "      <td>NaN</td>\n",
       "      <td>NaN</td>\n",
       "    </tr>\n",
       "  </tbody>\n",
       "</table>\n",
       "</div>"
      ],
      "text/plain": [
       "                  species     mass molecular weight GC Content\n",
       "0          Ursus spelaeus  550.800              NaN        NaN\n",
       "1            Ursus arctos  203.500              NaN        NaN\n",
       "2        Ursus thibetanus   99.714              NaN        NaN\n",
       "3        Melursus ursinus  100.030              NaN        NaN\n",
       "4        Ursus americanus  110.560              NaN        NaN\n",
       "5     Helarctos malayanus   47.020              NaN        NaN\n",
       "6  Ailuropoda melanoleuca  118.200              NaN        NaN\n",
       "7      Tremarctos ornatus  140.700              NaN        NaN\n",
       "8         Ursus maritimus  425.100              NaN        NaN"
      ]
     },
     "execution_count": 13,
     "metadata": {},
     "output_type": "execute_result"
    }
   ],
   "source": [
    "bears_df_copy = bears_df.copy()                   #Make a copy to ensure you dont mess up original\n",
    "for index, row in bears_df_copy.iterrows():       #Make column for molecular weight and fill it with NaN\n",
    "    bears_df_copy['molecular weight']= \"NaN\"      #Make column for GC content and fill it with NaN\n",
    "for index, row in bears_df_copy.iterrows():\n",
    "    bears_df_copy['GC Content']= \"NaN\"\n",
    "bears_df_copy                                     #Check that columns were created and filled "
   ]
  },
  {
   "cell_type": "markdown",
   "id": "e3e0278e",
   "metadata": {},
   "source": [
    "### 7 Write a For-Loop that Translates Each Sequence and also gets Molecular Weight and Computes the GC Content of Each Translated Sequence and Adds those Data to DataFrame"
   ]
  },
  {
   "cell_type": "code",
   "execution_count": 14,
   "id": "a1254e01",
   "metadata": {},
   "outputs": [
    {
     "data": {
      "text/html": [
       "<div>\n",
       "<style scoped>\n",
       "    .dataframe tbody tr th:only-of-type {\n",
       "        vertical-align: middle;\n",
       "    }\n",
       "\n",
       "    .dataframe tbody tr th {\n",
       "        vertical-align: top;\n",
       "    }\n",
       "\n",
       "    .dataframe thead th {\n",
       "        text-align: right;\n",
       "    }\n",
       "</style>\n",
       "<table border=\"1\" class=\"dataframe\">\n",
       "  <thead>\n",
       "    <tr style=\"text-align: right;\">\n",
       "      <th></th>\n",
       "      <th>species</th>\n",
       "      <th>mass</th>\n",
       "      <th>molecular weight</th>\n",
       "      <th>GC Content</th>\n",
       "    </tr>\n",
       "  </thead>\n",
       "  <tbody>\n",
       "    <tr>\n",
       "      <th>0</th>\n",
       "      <td>Ursus spelaeus</td>\n",
       "      <td>550.800</td>\n",
       "      <td>42458.7992</td>\n",
       "      <td>43.77193</td>\n",
       "    </tr>\n",
       "    <tr>\n",
       "      <th>1</th>\n",
       "      <td>Ursus arctos</td>\n",
       "      <td>203.500</td>\n",
       "      <td>42414.7435</td>\n",
       "      <td>43.77193</td>\n",
       "    </tr>\n",
       "    <tr>\n",
       "      <th>2</th>\n",
       "      <td>Ursus thibetanus</td>\n",
       "      <td>99.714</td>\n",
       "      <td>42306.6735</td>\n",
       "      <td>45.614035</td>\n",
       "    </tr>\n",
       "    <tr>\n",
       "      <th>3</th>\n",
       "      <td>Melursus ursinus</td>\n",
       "      <td>100.030</td>\n",
       "      <td>42551.99</td>\n",
       "      <td>45.175439</td>\n",
       "    </tr>\n",
       "    <tr>\n",
       "      <th>4</th>\n",
       "      <td>Ursus americanus</td>\n",
       "      <td>110.560</td>\n",
       "      <td>42427.7439</td>\n",
       "      <td>43.947368</td>\n",
       "    </tr>\n",
       "    <tr>\n",
       "      <th>5</th>\n",
       "      <td>Helarctos malayanus</td>\n",
       "      <td>47.020</td>\n",
       "      <td>42560.891</td>\n",
       "      <td>44.298246</td>\n",
       "    </tr>\n",
       "    <tr>\n",
       "      <th>6</th>\n",
       "      <td>Ailuropoda melanoleuca</td>\n",
       "      <td>118.200</td>\n",
       "      <td>42702.1845</td>\n",
       "      <td>40.789474</td>\n",
       "    </tr>\n",
       "    <tr>\n",
       "      <th>7</th>\n",
       "      <td>Tremarctos ornatus</td>\n",
       "      <td>140.700</td>\n",
       "      <td>42384.8266</td>\n",
       "      <td>44.385965</td>\n",
       "    </tr>\n",
       "    <tr>\n",
       "      <th>8</th>\n",
       "      <td>Ursus maritimus</td>\n",
       "      <td>425.100</td>\n",
       "      <td>42454.7873</td>\n",
       "      <td>44.298246</td>\n",
       "    </tr>\n",
       "  </tbody>\n",
       "</table>\n",
       "</div>"
      ],
      "text/plain": [
       "                  species     mass molecular weight GC Content\n",
       "0          Ursus spelaeus  550.800       42458.7992   43.77193\n",
       "1            Ursus arctos  203.500       42414.7435   43.77193\n",
       "2        Ursus thibetanus   99.714       42306.6735  45.614035\n",
       "3        Melursus ursinus  100.030         42551.99  45.175439\n",
       "4        Ursus americanus  110.560       42427.7439  43.947368\n",
       "5     Helarctos malayanus   47.020        42560.891  44.298246\n",
       "6  Ailuropoda melanoleuca  118.200       42702.1845  40.789474\n",
       "7      Tremarctos ornatus  140.700       42384.8266  44.385965\n",
       "8         Ursus maritimus  425.100       42454.7873  44.298246"
      ]
     },
     "execution_count": 14,
     "metadata": {},
     "output_type": "execute_result"
    }
   ],
   "source": [
    "row=0\n",
    "for i in bears_df_copy.species:\n",
    "    aa_sequence= biopython_translate(str(cytb_seqs[i]))\n",
    "    GC_con = gc_calc(str(cytb_seqs[i]))\n",
    "    mol_weight = molecular_weight_calc(aa_sequence)\n",
    "    bears_df_copy.loc[row, 'GC Content'] = GC_con\n",
    "    bears_df_copy.loc[row, 'molecular weight'] = mol_weight\n",
    "    row += 1\n",
    "bears_df_copy"
   ]
  },
  {
   "cell_type": "markdown",
   "id": "1daafade",
   "metadata": {},
   "source": [
    "### 8 Plot a Bar-Chart of the Mass with the x-axes Labeled with Species Names."
   ]
  },
  {
   "cell_type": "code",
   "execution_count": 15,
   "id": "e222f0f7",
   "metadata": {},
   "outputs": [
    {
     "data": {
      "text/plain": [
       "Text(0, 0.5, 'mass')"
      ]
     },
     "execution_count": 15,
     "metadata": {},
     "output_type": "execute_result"
    },
    {
     "data": {
      "image/png": "[encoded data removed]",
      "text/plain": [
       "<Figure size 1440x1440 with 1 Axes>"
      ]
     },
     "metadata": {
      "needs_background": "light"
     },
     "output_type": "display_data"
    }
   ],
   "source": [
    "ax= sns.barplot (x= \"species\", y= \"mass\", palette =\"Spectral\", data= bears_df_copy)  #using seaborn, specify what type of bar plot. with data and color palette\n",
    "ax.figure.set_size_inches(20, 20)                                                    #Set/change plot size as needed\n",
    "ax.set_xlabel('species', fontsize=40)                                                #label the axes and make font bigger\n",
    "ax.set_ylabel('mass', fontsize=40) #y axis label and font\n",
    "#https://seaborn.pydata.org/tutorial/color_palettes.html "
   ]
  },
  {
   "cell_type": "markdown",
   "id": "5fc6370d",
   "metadata": {},
   "source": [
    "Q1: Ursus speleus \n",
    "Q2: They are extinct now\n",
    "https://www.britannica.com/animal/cave-bear"
   ]
  },
  {
   "cell_type": "markdown",
   "id": "16633d4b",
   "metadata": {},
   "source": [
    "### 9 Plot a Visualization of the Molecular Weight (y-axis) as a Function of GC-content (x-axis)."
   ]
  },
  {
   "cell_type": "code",
   "execution_count": 16,
   "id": "e9f931af",
   "metadata": {},
   "outputs": [
    {
     "data": {
      "image/png": "[encoded data removed]",
      "text/plain": [
       "<Figure size 516.875x360 with 1 Axes>"
      ]
     },
     "metadata": {
      "needs_background": "light"
     },
     "output_type": "display_data"
    }
   ],
   "source": [
    "ay= sns.lmplot(x= \"GC Content\", y= \"molecular weight\", data= bears_df_copy, markers='*', fit_reg= True, hue=\"species\", aspect=1, palette =\"Spectral\")"
   ]
  },
  {
   "cell_type": "markdown",
   "id": "7e0e976e",
   "metadata": {},
   "source": [
    "### 10 Save the new DataFrame to a file called \"bears_mass_cytb.csv\""
   ]
  },
  {
   "cell_type": "code",
   "execution_count": 18,
   "id": "3f24b3a0",
   "metadata": {},
   "outputs": [],
   "source": [
    "bears_df_copy.to_csv('bears_final_sodders.csv')"
   ]
  },
  {
   "cell_type": "markdown",
   "id": "a582b60f",
   "metadata": {},
   "source": [
    "### 11 Add functions or anything that might be interesting and fun. (optional)"
   ]
  },
  {
   "cell_type": "code",
   "execution_count": null,
   "id": "0e14687d",
   "metadata": {},
   "outputs": [],
   "source": []
  }
 ],
 "metadata": {
  "kernelspec": {
   "display_name": "Python 3",
   "language": "python",
   "name": "python3"
  },
  "language_info": {
   "codemirror_mode": {
    "name": "ipython",
    "version": 3
   },
   "file_extension": ".py",
   "mimetype": "text/x-python",
   "name": "python",
   "nbconvert_exporter": "python",
   "pygments_lexer": "ipython3",
   "version": "3.8.8"
  }
 },
 "nbformat": 4,
 "nbformat_minor": 5
}
