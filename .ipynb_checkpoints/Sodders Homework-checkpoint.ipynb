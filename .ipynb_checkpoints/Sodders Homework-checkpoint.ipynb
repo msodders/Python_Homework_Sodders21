{
 "cells": [
  {
   "cell_type": "markdown",
   "id": "15aac0d7",
   "metadata": {},
   "source": [
    "# Sodders Python Homework"
   ]
  },
  {
   "cell_type": "markdown",
   "id": "9dac901c",
   "metadata": {},
   "source": [
    "## Initial Installations (If not Already Done)"
   ]
  },
  {
   "cell_type": "code",
   "execution_count": null,
   "id": "39c36f83",
   "metadata": {
    "scrolled": true
   },
   "outputs": [],
   "source": [
    "pip install biopython"
   ]
  },
  {
   "cell_type": "code",
   "execution_count": null,
   "id": "67f29b3f",
   "metadata": {},
   "outputs": [],
   "source": [
    "from Bio import SeqIO\n",
    "from Bio.Data import CodonTable\n",
    "import pandas as pd"
   ]
  },
  {
   "cell_type": "markdown",
   "id": "0df1e167",
   "metadata": {},
   "source": [
    "## Functions "
   ]
  },
  {
   "cell_type": "markdown",
   "id": "5a99a376",
   "metadata": {},
   "source": [
    "### 1 Describe all functions used below: what it does, returns, and arguments"
   ]
  },
  {
   "cell_type": "code",
   "execution_count": 2,
   "id": "a82344a4",
   "metadata": {},
   "outputs": [],
   "source": [
    "def get_sequences_from_file(bears_cytb): \n",
    "    sequence_data_dict = {}\n",
    "    for record in SeqIO.parse(bears_cytb.fasta, \"fasta\"):\n",
    "        description = record.description.split()\n",
    "        species_name = description[1] + \" \" + description[2]\n",
    "        sequence_data_dict[species_name] = record.seq\n",
    "    return(sequence_data_dict)"
   ]
  },
  {
   "cell_type": "code",
   "execution_count": null,
   "id": "5993a9e8",
   "metadata": {},
   "outputs": [],
   "source": [
    "def get_sequences_from_file(fasta_fn): #reads the fasta file inputed to the brackets\n",
    "    sequence_data_dict = {} #makes dictionary \n",
    "    for record in SeqIO.parse(fasta_fn, \"fasta\"): #organize dictionary by sequence name \n",
    "        description = record.description.split()\n",
    "        species_name = description[1] + \" \" + description[2]\n",
    "        sequence_data_dict[species_name] = record.seq\n",
    "    return(sequence_data_dict) #returns the dictionary organized by the sequence name"
   ]
  },
  {
   "cell_type": "markdown",
   "id": "16a714db",
   "metadata": {},
   "source": [
    "### 2 Write a Function that Translates Sequences"
   ]
  },
  {
   "cell_type": "code",
   "execution_count": null,
   "id": "9765876e",
   "metadata": {},
   "outputs": [],
   "source": []
  },
  {
   "cell_type": "markdown",
   "id": "4314be97",
   "metadata": {},
   "source": [
    "### 3 Write Alternative Translation Function (With BioPython)"
   ]
  },
  {
   "cell_type": "code",
   "execution_count": null,
   "id": "d46fd888",
   "metadata": {},
   "outputs": [],
   "source": []
  },
  {
   "cell_type": "markdown",
   "id": "01b36b3f",
   "metadata": {},
   "source": [
    "### 4 Write a Function that Calculates the Molecular Weight of each Amino Acid Sequence."
   ]
  },
  {
   "cell_type": "code",
   "execution_count": null,
   "id": "108475ec",
   "metadata": {},
   "outputs": [],
   "source": [
    "from Bio.SeqUtils.ProtParam import ProteinAnalysis "
   ]
  },
  {
   "cell_type": "markdown",
   "id": "648c5cb1",
   "metadata": {},
   "source": [
    "### 5 Write a Function that Calculates the GC-content (proportion of \"G\" and \"C\") of each DNA Sequence and Returns this Value "
   ]
  },
  {
   "cell_type": "code",
   "execution_count": null,
   "id": "df5405e7",
   "metadata": {},
   "outputs": [],
   "source": [
    "cytb_seqs = get_sequences_from_file(\"bears_cytb.fasta\") \n",
    "\n",
    "bears_df = pd.read_csv(\"bears_mass.csv\") # Includes only data for body mass \n",
    "species_list = list(bears_df.species)\n"
   ]
  },
  {
   "cell_type": "markdown",
   "id": "23867b86",
   "metadata": {},
   "source": [
    "### 6 Add Two New Columns to the Bears DataFrame: (1) Molecular Weight and (2) GC content."
   ]
  },
  {
   "cell_type": "code",
   "execution_count": null,
   "id": "82930caf",
   "metadata": {},
   "outputs": [],
   "source": []
  },
  {
   "cell_type": "markdown",
   "id": "e3e0278e",
   "metadata": {},
   "source": [
    "### 7 Write a For-Loop that Translates Each Sequence and also gets Molecular Weight and Computes the GC Content of Each Translated Sequence and Adds those Data to DataFrame"
   ]
  },
  {
   "cell_type": "code",
   "execution_count": null,
   "id": "85610b6e",
   "metadata": {},
   "outputs": [],
   "source": []
  },
  {
   "cell_type": "markdown",
   "id": "1daafade",
   "metadata": {},
   "source": [
    "### 8 Plot a Bar-Chart of the Mass with the x-axes Labeled with Species Names."
   ]
  },
  {
   "cell_type": "code",
   "execution_count": null,
   "id": "e222f0f7",
   "metadata": {},
   "outputs": [],
   "source": []
  },
  {
   "cell_type": "markdown",
   "id": "16633d4b",
   "metadata": {},
   "source": [
    "### 9 Plot a Visualization of the Molecular Weight (y-axis) as a Function of GC-content (x-axis)."
   ]
  },
  {
   "cell_type": "code",
   "execution_count": null,
   "id": "e9f931af",
   "metadata": {},
   "outputs": [],
   "source": []
  },
  {
   "cell_type": "markdown",
   "id": "7e0e976e",
   "metadata": {},
   "source": [
    "### 10 Save the new DataFrame to a file called \"bears_mass_cytb.csv\""
   ]
  },
  {
   "cell_type": "code",
   "execution_count": null,
   "id": "3f24b3a0",
   "metadata": {},
   "outputs": [],
   "source": []
  },
  {
   "cell_type": "markdown",
   "id": "a582b60f",
   "metadata": {},
   "source": [
    "### 11 Add functions or anything that might be interesting and fun. (optional)"
   ]
  },
  {
   "cell_type": "code",
   "execution_count": null,
   "id": "f5dc5d96",
   "metadata": {},
   "outputs": [],
   "source": []
  }
 ],
 "metadata": {
  "kernelspec": {
   "display_name": "Python 3",
   "language": "python",
   "name": "python3"
  },
  "language_info": {
   "codemirror_mode": {
    "name": "ipython",
    "version": 3
   },
   "file_extension": ".py",
   "mimetype": "text/x-python",
   "name": "python",
   "nbconvert_exporter": "python",
   "pygments_lexer": "ipython3",
   "version": "3.8.8"
  }
 },
 "nbformat": 4,
 "nbformat_minor": 5
}
